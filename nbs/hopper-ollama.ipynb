{
 "cells": [
  {
   "cell_type": "markdown",
   "metadata": {},
   "source": [
    "# Quick test of Ollama and the hopper H200\n",
    "- [LangChain Ollama Docs](https://python.langchain.com/docs/guides/development/local_llms/#quickstart)\n",
    "- [Multimodal Ollama Cookbook](https://docs.llamaindex.ai/en/stable/examples/multi_modal/ollama_cookbook/)\n",
    "- [Multi-Agent DSPy Programs: Bootstrapping & Aggregating Multiple ReAct Agents](https://github.com/stanfordnlp/dspy/blob/main/examples/agents/multi_agent_llama3.ipynb)\n",
    "- [Don’t RAG on Knowledge Graphs(Or Do) Benchmarking: Finally Building a Knowledge Graph – Part Two](https://www.dmlbl.com/technical_blog/knowledge-graph-rag-benchmark-2/)\n",
    "- [Rustworkx for visualization](https://www.rustworkx.org/index.html)\n",
    "- [Paco's ER Blog Post](https://neo4j.com/developer-blog/entity-resolved-knowledge-graphs/)\n",
    "\n",
    "## Currentlly running LLMs on the Hopper H200\n",
    "\n",
    "| NAME                          |     ID         |  SIZE   |     MODIFIED        |\n",
    "|-------------------------------|----------------|---------|---------------------|\n",
    "| all-minilm:latest             |  1b226e2802db  |  45 MB  |  About a minute ago |\n",
    "| command-r-plus:latest         |  c9c6cc6d20c7  |  59 GB  |  3 minutes ago      |\n",
    "| dbrx:latest                   |  36800d8d3a28  |  74 GB  |  19 minutes ago     |\n",
    "| dolphin-llama3:latest         |  613f068e29f8  |  4.7 GB | About a minute ago  |\n",
    "| dolphin-mixtral:latest        |  cfada4ba31c7  |  26 GB  | 2 minutes ago       |\n",
    "| gemma:latest                  |  a72c7f4d0a15  |  5.0 GB | 31 seconds ago      |\n",
    "| llama3:70b-instruct           |  bcfb190ca3a7  |  39 GB  | 2 days ago          |\n",
    "| llama3:latest                 |  71a106a91016  |  4.7 GB | 2 days ago          |\n",
    "| llava:latest                  |  8dd30f6b0cb1  |  4.7 GB | 10 seconds ago      |\n",
    "| mixtral:8x22b                 |  bf88270436ed  |  79 GB  | 23 minutes ago      |\n",
    "| mxbai-embed-large:latest      |  468836162de7  |  669 MB | About a minute ago  |\n",
    "| nomic-embed-text:latest       |  0a109f422b47  |  274 MB |  57 seconds ago     |\n",
    "| snowflake-arctic-embed:latest |  21ab8b9b0545  |  669 MB | About a minute ago  |\n",
    "| starcoder2:latest             |  f67ae0f64584  |  1.7 GB | About a minute ago  |\n",
    "| wizardlm2:latest              |  c9b1aff820f2  |  4.1 GB | 3 minutes ago       |\n",
    "\n",
    "## SSH Config\n",
    "Place in `~/.ssh/config`:\n",
    "```\n",
    "Host hopper\n",
    "  Hostname gh200-001.crc.nd.edu\n",
    "  User <your user name>\n",
    "  LocalForward 8888 127.0.0.1:8888\n",
    "  LocalForward 11434 127.0.0.1:11434\n",
    "```"
   ]
  },
  {
   "cell_type": "code",
   "execution_count": 1,
   "metadata": {},
   "outputs": [
    {
     "name": "stdout",
     "output_type": "stream",
     "text": [
      "Ducks have webbed feet because they are adapted to living in aquatic environments, such as ponds, lakes, and rivers. Their webbed feet are a remarkable example of evolutionary adaptation, which has helped them thrive in these habitats. Here are some reasons why ducks have webbed feet:\n",
      "\n",
      "1. **Swimming and diving**: The webs between their toes act like paddles, allowing ducks to swim efficiently through the water. As they push their feet backward, the webs help to propel them forward, making swimming and diving easier.\n",
      "2. **Stability and balance**: Webbed feet provide stability and balance when ducks are standing on slippery surfaces, such as wet rocks or muddy banks. The wide, flat feet with webs between the toes act like snowshoes, distributing their weight evenly and preventing them from sinking into the mud.\n",
      "3. **Walking on soft ground**: In marshy areas, webbed feet help ducks to walk on soft, spongy ground without sinking in. The webs distribute their weight, allowing them to move easily through dense vegetation.\n",
      "4. **Braking and steering**: When diving or swimming, ducks use their webbed feet to brake and steer. By adjusting the angle of their feet, they can control their descent or change direction quickly.\n",
      "5. **Protection from cold water**: The webs between their toes may also help to reduce heat loss in cold water. The skin between the toes is thicker than elsewhere on the foot, which could help to insulate the duck's feet and keep them warm.\n",
      "\n",
      "In summary, ducks have webbed feet because they are perfectly adapted for life in aquatic environments. Their unique feet enable them to swim, dive, walk, and maneuver with ease, making them well-suited to their habitats.\n"
     ]
    }
   ],
   "source": [
    "import ollama\n",
    "response = ollama.chat(model='llama3:70b', messages=[\n",
    "  {\n",
    "    'role': 'user',\n",
    "    'content': 'Why do ducks have webbed feet?',\n",
    "  },\n",
    "])\n",
    "print(response['message']['content'])"
   ]
  },
  {
   "cell_type": "code",
   "execution_count": 9,
   "metadata": {},
   "outputs": [],
   "source": [
    "# Multimodal model on Hopper: llava-phi3, llava:34b, moondream, llava-llama3\n",
    "from langchain_community.llms import Ollama\n",
    "mmllm = Ollama(base_url=\"http://localhost:11434\", model=\"llava-phi3\")\n",
    "#mmllm = ollama.chat(model=\"llava-phi3\")\n",
    "\n",
    "from PIL import Image\n",
    "import base64\n",
    "from io import BytesIO\n",
    "\n",
    "def convert_to_base64(pil_image: Image):\n",
    "    buffered = BytesIO()\n",
    "    pil_image.save(buffered, format=\"PNG\")\n",
    "    img_str = base64.b64encode(buffered.getvalue()).decode(\"utf-8\")\n",
    "    return img_str\n",
    "\n",
    "def load_image(image_path: str):\n",
    "    pil_image = Image.open(image_path)\n",
    "    image_b64 = convert_to_base64(pil_image)\n",
    "    print(\"Loaded image successfully!\")\n",
    "    return image_b64"
   ]
  },
  {
   "cell_type": "code",
   "execution_count": 10,
   "metadata": {},
   "outputs": [
    {
     "name": "stdout",
     "output_type": "stream",
     "text": [
      "Loaded image successfully!\n",
      "The image features two men standing side by side, each wearing a t-shirt with a statement printed on it. The man on the left is sporting a black t-shirt that reads \"I didn't invent the internet\", while the man on the right is wearing a gray t-shirt that proclaims \"I did not invent the web\". Both of them are smiling, adding a jovial tone to the image. The backdrop against which they stand is a vibrant blue curtain adorned with a green pattern, providing a stark contrast to their black and gray t-shirts.\n"
     ]
    }
   ],
   "source": [
    "image_b64 = load_image(\"./contextual_test.png\")\n",
    "resp = mmllm.invoke(\"What's in the image?\", images=[image_b64])\n",
    "print(resp)"
   ]
  }
 ],
 "metadata": {
  "kernelspec": {
   "display_name": ".venv",
   "language": "python",
   "name": "python3"
  },
  "language_info": {
   "codemirror_mode": {
    "name": "ipython",
    "version": 3
   },
   "file_extension": ".py",
   "mimetype": "text/x-python",
   "name": "python",
   "nbconvert_exporter": "python",
   "pygments_lexer": "ipython3",
   "version": "3.10.13"
  }
 },
 "nbformat": 4,
 "nbformat_minor": 2
}
