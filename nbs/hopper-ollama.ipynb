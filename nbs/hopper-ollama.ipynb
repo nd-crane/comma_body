{
 "cells": [
  {
   "cell_type": "markdown",
   "metadata": {},
   "source": [
    "# Quick test of Ollama and the hopper H200\n",
    "- [LangChain Ollama Docs](https://python.langchain.com/docs/guides/development/local_llms/#quickstart)\n",
    "- [Multimodal Ollama Cookbook](https://docs.llamaindex.ai/en/stable/examples/multi_modal/ollama_cookbook/)\n",
    "- [Multi-Agent DSPy Programs: Bootstrapping & Aggregating Multiple ReAct Agents](https://github.com/stanfordnlp/dspy/blob/main/examples/agents/multi_agent_llama3.ipynb)\n",
    "- [Don’t RAG on Knowledge Graphs(Or Do) Benchmarking: Finally Building a Knowledge Graph – Part Two](https://www.dmlbl.com/technical_blog/knowledge-graph-rag-benchmark-2/)\n",
    "- [Rustworkx for visualization](https://www.rustworkx.org/index.html)\n",
    "- [Paco's ER Blog Post](https://neo4j.com/developer-blog/entity-resolved-knowledge-graphs/)\n",
    "\n",
    "## Currentlly running LLMs on the Hopper H200\n",
    "\n",
    "| NAME                          |     ID         |  SIZE   |     MODIFIED        |\n",
    "|-------------------------------|----------------|---------|---------------------|\n",
    "| all-minilm:latest             |  1b226e2802db  |  45 MB  |  About a minute ago |\n",
    "| command-r-plus:latest         |  c9c6cc6d20c7  |  59 GB  |  3 minutes ago      |\n",
    "| dbrx:latest                   |  36800d8d3a28  |  74 GB  |  19 minutes ago     |\n",
    "| dolphin-llama3:latest         |  613f068e29f8  |  4.7 GB | About a minute ago  |\n",
    "| dolphin-mixtral:latest        |  cfada4ba31c7  |  26 GB  | 2 minutes ago       |\n",
    "| gemma:latest                  |  a72c7f4d0a15  |  5.0 GB | 31 seconds ago      |\n",
    "| llama3:70b-instruct           |  bcfb190ca3a7  |  39 GB  | 2 days ago          |\n",
    "| llama3:latest                 |  71a106a91016  |  4.7 GB | 2 days ago          |\n",
    "| llava:latest                  |  8dd30f6b0cb1  |  4.7 GB | 10 seconds ago      |\n",
    "| mixtral:8x22b                 |  bf88270436ed  |  79 GB  | 23 minutes ago      |\n",
    "| mxbai-embed-large:latest      |  468836162de7  |  669 MB | About a minute ago  |\n",
    "| nomic-embed-text:latest       |  0a109f422b47  |  274 MB |  57 seconds ago     |\n",
    "| snowflake-arctic-embed:latest |  21ab8b9b0545  |  669 MB | About a minute ago  |\n",
    "| starcoder2:latest             |  f67ae0f64584  |  1.7 GB | About a minute ago  |\n",
    "| wizardlm2:latest              |  c9b1aff820f2  |  4.1 GB | 3 minutes ago       |\n",
    "\n",
    "## SSH Config\n",
    "Place in `~/.ssh/config`:\n",
    "```\n",
    "Host hopper\n",
    "  Hostname gh200-001.crc.nd.edu\n",
    "  User <your user name>\n",
    "  LocalForward 8888 127.0.0.1:8888\n",
    "  LocalForward 11434 127.0.0.1:11434\n",
    "```"
   ]
  },
  {
   "cell_type": "code",
   "execution_count": 1,
   "metadata": {},
   "outputs": [
    {
     "name": "stdout",
     "output_type": "stream",
     "text": [
      " Ducks have webbed feet primarily as an adaptation for efficient swimming. The webbing between their toes increases the surface area of their feet, making them excellent paddles in water. This feature helps ducks propel themselves with greater ease and speed while swimming. Additionally, this specialized structure aids in steering and maneuverability when navigating through various aquatic environments. Beyond swimming efficiency, webbed feet can also help ducks to walk on slippery surfaces like ice more effectively.\n",
      "\n",
      "Here are some other benefits of the webbed feet in ducks:\n",
      "\n",
      "1. Diving capabilities: Webbed feet assist ducks in diving deeper and staying underwater for longer periods, which is crucial for feeding and avoiding predators.\n",
      "2. Ground stability: Although their primary function isn't ground walking, the webbed structure helps with balance and provides a certain level of traction on soft or uneven terrain when ducks need to walk briefly out of the water.\n",
      "3. Foraging efficiency: Having webbed feet can make it easier for ducks to scoop up food from the bottom of ponds, lakes, and streams while swimming or floating.\n",
      "4. Thermoregulation: The large surface area provided by their webbed feet can help dissipate excess heat when ducks are active in warm environments, contributing to thermoregulation.\n",
      "5. Mating displays: In some cases, certain species of ducks may use their webbed feet during courtship rituals or displays to attract mates.\n"
     ]
    }
   ],
   "source": [
    "import ollama\n",
    "response = ollama.chat(model='phi3:instruct', messages=[\n",
    "  {\n",
    "    'role': 'user',\n",
    "    'content': 'Why do ducks have webbed feet?',\n",
    "  },\n",
    "])\n",
    "print(response['message']['content'])"
   ]
  },
  {
   "cell_type": "code",
   "execution_count": 3,
   "metadata": {},
   "outputs": [],
   "source": [
    "# Multimodal model on Hopper: llava-phi3, llava:34b, moondream, llava-llama3\n",
    "from langchain_community.llms import Ollama\n",
    "mmllm = Ollama(base_url=\"http://localhost:11434\", model=\"llava-phi3\")\n",
    "#mmllm = ollama.chat(model=\"llava-phi3\")\n",
    "\n",
    "from PIL import Image\n",
    "import base64\n",
    "from io import BytesIO\n",
    "\n",
    "def convert_to_base64(pil_image: Image):\n",
    "    buffered = BytesIO()\n",
    "    pil_image.save(buffered, format=\"PNG\")\n",
    "    img_str = base64.b64encode(buffered.getvalue()).decode(\"utf-8\")\n",
    "    return img_str\n",
    "\n",
    "def load_image(image_path: str):\n",
    "    pil_image = Image.open(image_path)\n",
    "    image_b64 = convert_to_base64(pil_image)\n",
    "    print(\"Loaded image successfully!\")\n",
    "    return image_b64"
   ]
  },
  {
   "cell_type": "code",
   "execution_count": 6,
   "metadata": {},
   "outputs": [
    {
     "name": "stdout",
     "output_type": "stream",
     "text": [
      "Loaded image successfully!\n",
      "The image captures a moment between two men standing side by side, each wearing a black t-shirt. The man on the left is smiling and has his arm casually draped around the shoulder of the other man on the right. \n",
      "\n",
      "Both shirts are identical in color but bear different phrases written in white text. On the shirt of the man to the left, the phrase \"I didn't invent the internet\" is printed. The man on the right, with his arm around his companion, has a shirt that says \"I did not invent the Web\". \n",
      "\n",
      "The background behind them is a gradient of green and blue colors, providing a contrasting backdrop to their black t-shirts. The phrase on each shirt is clearly visible, indicating a humorous acknowledgment of these two iconic technological advancements often attributed to Tim Berners-Lee.\n"
     ]
    }
   ],
   "source": [
    "image_b64 = load_image(\"./contextual_test.png\")\n",
    "resp = mmllm.invoke(\"What's in the image?\", images=[image_b64])\n",
    "print(resp)"
   ]
  },
  {
   "cell_type": "markdown",
   "metadata": {},
   "source": []
  },
  {
   "cell_type": "markdown",
   "metadata": {},
   "source": [
    "Using the Ollama Chat Library directly:\n"
   ]
  },
  {
   "cell_type": "code",
   "execution_count": 4,
   "metadata": {},
   "outputs": [
    {
     "name": "stdout",
     "output_type": "stream",
     "text": [
      "The strangeness of the image lies in the fact that both men are wearing t-shirts with phrases written on them, but the content of these phrases is humorous or satirical and does not seem to be related to their physical presence. The man on the left has a t-shirt that says \"I didn't invent the internet\", while the man on the right has one that says \"I didn't invent the web\". These statements are factually incorrect, as they imply ownership or invention of technology platforms that were actually developed by others. This unusual choice of phrasing adds a layer of humor and irony to the image.\n"
     ]
    }
   ],
   "source": [
    "import ollama\n",
    "with open('./contextual_test.png', 'rb') as file:\n",
    "  response = ollama.chat(\n",
    "    model='llava-phi3',\n",
    "    messages=[\n",
    "      {\n",
    "        'role': 'user',\n",
    "        'content': 'What is strange about this image?',\n",
    "        'images': [file.read()],\n",
    "      },\n",
    "    ],\n",
    "  )\n",
    "print(response['message']['content'])"
   ]
  }
 ],
 "metadata": {
  "kernelspec": {
   "display_name": ".venv",
   "language": "python",
   "name": "python3"
  },
  "language_info": {
   "codemirror_mode": {
    "name": "ipython",
    "version": 3
   },
   "file_extension": ".py",
   "mimetype": "text/x-python",
   "name": "python",
   "nbconvert_exporter": "python",
   "pygments_lexer": "ipython3",
   "version": "3.10.13"
  }
 },
 "nbformat": 4,
 "nbformat_minor": 2
}
